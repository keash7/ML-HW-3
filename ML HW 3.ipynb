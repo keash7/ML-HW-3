{
 "cells": [
  {
   "cell_type": "code",
   "execution_count": 7,
   "metadata": {},
   "outputs": [],
   "source": [
    "from sympy import *\n",
    "\n",
    "w1 = Symbol('w1')\n",
    "w2 = Symbol('w2')\n",
    "\n",
    "fw= ((w1**2) + w2 -11)**2 + (w1 + w2**2 -7)**2\n",
    "\n",
    "fpw1 = fw.diff(w1)\n",
    "\n",
    "fpw2 = fw.diff(w2)\n",
    "\n",
    "grad = [fpw1,fpw2]\n",
    "\n",
    "\n"
   ]
  },
  {
   "cell_type": "code",
   "execution_count": 8,
   "metadata": {},
   "outputs": [
    {
     "name": "stdout",
     "output_type": "stream",
     "text": [
      "[4*w1*(w1**2 + w2 - 11) + 2*w1 + 2*w2**2 - 14, 2*w1**2 + 4*w2*(w1 + w2**2 - 7) + 2*w2 - 22]\n"
     ]
    }
   ],
   "source": [
    "print(grad)"
   ]
  },
  {
   "cell_type": "markdown",
   "metadata": {},
   "source": [
    "Problem 1, Alpha=0.005"
   ]
  },
  {
   "cell_type": "code",
   "execution_count": 39,
   "metadata": {},
   "outputs": [
    {
     "name": "stdout",
     "output_type": "stream",
     "text": [
      "The function converges to a minimum\n",
      "Number of iterations: 82\n",
      "w1 = -3.77931025337701\n",
      "w2 = -3.28318599128498\n"
     ]
    }
   ],
   "source": [
    "theta = 0  \n",
    "theta1 = -4 \n",
    "stepsize = .005\n",
    "iterations = 0\n",
    "maxiterations = 10000\n",
    "precision = 10**(-12)\n",
    "printData = True\n",
    "\n",
    "while True:\n",
    "    temptheta = theta - stepsize*N(fpw1.subs(w1,theta).subs(w2,theta1)).evalf()\n",
    "    temptheta1 = theta1 - stepsize*N(fpw2.subs(w2,theta1)).subs(w1,theta).evalf()\n",
    "\n",
    "    iterations += 1\n",
    "    if iterations > maxiterations:\n",
    "        print(\"Too many iterations.\")\n",
    "        printData = False\n",
    "        break\n",
    "\n",
    "    if abs(temptheta-theta) < precision and abs(temptheta1-theta1) < precision:\n",
    "        break\n",
    "\n",
    "    theta = temptheta\n",
    "    theta1 = temptheta1\n",
    "\n",
    "if printData:\n",
    "    print(\"The function converges to a minimum\")\n",
    "    print(\"Number of iterations:\",iterations)\n",
    "    print(\"w1 =\",temptheta)\n",
    "    print(\"w2 =\",temptheta1)"
   ]
  },
  {
   "cell_type": "markdown",
   "metadata": {},
   "source": [
    "Problem 1 Alpha = 0.01"
   ]
  },
  {
   "cell_type": "code",
   "execution_count": 40,
   "metadata": {},
   "outputs": [
    {
     "name": "stdout",
     "output_type": "stream",
     "text": [
      "The function converges to a minimum\n",
      "Number of iterations: 35\n",
      "w1 = -3.77931025337759\n",
      "w2 = -3.28318599128599\n"
     ]
    }
   ],
   "source": [
    "theta = 0  \n",
    "theta1 = -4 \n",
    "stepsize = .01\n",
    "iterations = 0\n",
    "maxiterations = 10000\n",
    "precision = 10**(-12)\n",
    "printData = True\n",
    "\n",
    "while True:\n",
    "    temptheta = theta - stepsize*N(fpw1.subs(w1,theta).subs(w2,theta1)).evalf()\n",
    "    temptheta1 = theta1 - stepsize*N(fpw2.subs(w2,theta1)).subs(w1,theta).evalf()\n",
    "\n",
    "    iterations += 1\n",
    "    if iterations > maxiterations:\n",
    "        print(\"Too many iterations.\")\n",
    "        printData = False\n",
    "        break\n",
    "\n",
    "    if abs(temptheta-theta) < precision and abs(temptheta1-theta1) < precision:\n",
    "        break\n",
    "\n",
    "    theta = temptheta\n",
    "    theta1 = temptheta1\n",
    "\n",
    "if printData:\n",
    "    print(\"The function converges to a minimum\")\n",
    "    print(\"Number of iterations:\",iterations)\n",
    "    print(\"w1 =\",temptheta)\n",
    "    print(\"w2 =\",temptheta1)"
   ]
  },
  {
   "cell_type": "markdown",
   "metadata": {},
   "source": [
    "From the first step to the second step, the step size alpha increased by a factor of 2. The number of iterations changed from 82 to 35. This is a large decrease in the number of iterations. As step size increases, the number of iterations greatly decreases. "
   ]
  },
  {
   "cell_type": "markdown",
   "metadata": {},
   "source": [
    "Problem 2 I."
   ]
  },
  {
   "cell_type": "code",
   "execution_count": 60,
   "metadata": {},
   "outputs": [
    {
     "name": "stdout",
     "output_type": "stream",
     "text": [
      "The function converges to a minimum\n",
      "Number of iterations: 35\n",
      "w1 = -3.77931025337759\n",
      "w2 = -3.28318599128599\n"
     ]
    }
   ],
   "source": [
    "theta = 0  \n",
    "theta1 = -4 \n",
    "stepsize = .01\n",
    "iterations = 0\n",
    "maxiterations = 10000\n",
    "precision = 10**(-12)\n",
    "printData = True\n",
    "array2i_1=[]\n",
    "array2i_2=[]\n",
    "\n",
    "while True:\n",
    "    temptheta = theta - stepsize*N(fpw1.subs(w1,theta).subs(w2,theta1)).evalf()\n",
    "    temptheta1 = theta1 - stepsize*N(fpw2.subs(w2,theta1)).subs(w1,theta).evalf()\n",
    "\n",
    "    iterations += 1\n",
    "    if iterations > maxiterations:\n",
    "        print(\"Too many iterations.\")\n",
    "        printData = False\n",
    "        break\n",
    "\n",
    "    if abs(temptheta-theta) < precision and abs(temptheta1-theta1) < precision:\n",
    "        break\n",
    "\n",
    "    theta = temptheta\n",
    "    theta1 = temptheta1\n",
    "    \n",
    "    array2i_1.append(temptheta)\n",
    "    array2i_2.append(temptheta1)\n",
    "\n",
    "if printData:\n",
    "    print(\"The function converges to a minimum\")\n",
    "    print(\"Number of iterations:\",iterations)\n",
    "    print(\"w1 =\",temptheta)\n",
    "    print(\"w2 =\",temptheta1)"
   ]
  },
  {
   "cell_type": "markdown",
   "metadata": {},
   "source": [
    "Problem 2 II."
   ]
  },
  {
   "cell_type": "code",
   "execution_count": 77,
   "metadata": {},
   "outputs": [
    {
     "name": "stdout",
     "output_type": "stream",
     "text": [
      "The function converges to a minimum\n",
      "Number of iterations: 78\n",
      "w1 = 3.58442834033028\n",
      "w2 = -1.84812652696208\n"
     ]
    }
   ],
   "source": [
    "theta = 0.5  \n",
    "theta1 = -4 \n",
    "stepsize = .01\n",
    "iterations = 0\n",
    "maxiterations = 10000\n",
    "precision = 10**(-12)\n",
    "printData = True\n",
    "array2ii_1=[]\n",
    "array2ii_2=[]\n",
    "\n",
    "while True:\n",
    "    temptheta = theta - stepsize*N(fpw1.subs(w1,theta).subs(w2,theta1)).evalf()\n",
    "    temptheta1 = theta1 - stepsize*N(fpw2.subs(w2,theta1)).subs(w1,theta).evalf()\n",
    "\n",
    "    iterations += 1\n",
    "    if iterations > maxiterations:\n",
    "        print(\"Too many iterations.\")\n",
    "        printData = False\n",
    "        break\n",
    "\n",
    "    if abs(temptheta-theta) < precision and abs(temptheta1-theta1) < precision:\n",
    "        break\n",
    "\n",
    "    theta = temptheta\n",
    "    theta1 = temptheta1\n",
    "    \n",
    "    array2ii_1.append(temptheta)\n",
    "    array2ii_2.append(temptheta1)\n",
    "\n",
    "if printData:\n",
    "    print(\"The function converges to a minimum\")\n",
    "    print(\"Number of iterations:\",iterations)\n",
    "    print(\"w1 =\",temptheta)\n",
    "    print(\"w2 =\",temptheta1)"
   ]
  },
  {
   "cell_type": "markdown",
   "metadata": {},
   "source": [
    "Problem 2 III."
   ]
  },
  {
   "cell_type": "code",
   "execution_count": 61,
   "metadata": {},
   "outputs": [
    {
     "name": "stdout",
     "output_type": "stream",
     "text": [
      "The function converges to a minimum\n",
      "Number of iterations: 38\n",
      "w1 = -2.80511808695240\n",
      "w2 = 3.13131251825054\n"
     ]
    }
   ],
   "source": [
    "theta = 0  \n",
    "theta1 = 4 \n",
    "stepsize = .01\n",
    "iterations = 0\n",
    "maxiterations = 10000\n",
    "precision = 10**(-12)\n",
    "printData = True\n",
    "array2iii_1=[]\n",
    "array2iii_2=[]\n",
    "\n",
    "while True:\n",
    "    temptheta = theta - stepsize*N(fpw1.subs(w1,theta).subs(w2,theta1)).evalf()\n",
    "    temptheta1 = theta1 - stepsize*N(fpw2.subs(w2,theta1)).subs(w1,theta).evalf()\n",
    "\n",
    "    iterations += 1\n",
    "    if iterations > maxiterations:\n",
    "        print(\"Too many iterations.\")\n",
    "        printData = False\n",
    "        break\n",
    "\n",
    "    if abs(temptheta-theta) < precision and abs(temptheta1-theta1) < precision:\n",
    "        break\n",
    "\n",
    "    theta = temptheta\n",
    "    theta1 = temptheta1\n",
    "    \n",
    "    array2iii_1.append(temptheta)\n",
    "    array2iii_2.append(temptheta1)\n",
    "\n",
    "if printData:\n",
    "    print(\"The function converges to a minimum\")\n",
    "    print(\"Number of iterations:\",iterations)\n",
    "    print(\"w1 =\",temptheta)\n",
    "    print(\"w2 =\",temptheta1)"
   ]
  },
  {
   "cell_type": "markdown",
   "metadata": {},
   "source": [
    "Problem 2 IV."
   ]
  },
  {
   "cell_type": "code",
   "execution_count": 62,
   "metadata": {},
   "outputs": [
    {
     "name": "stdout",
     "output_type": "stream",
     "text": [
      "The function converges to a minimum\n",
      "Number of iterations: 96\n",
      "w1 = 2.99999999999892\n",
      "w2 = 2.00000000000261\n"
     ]
    }
   ],
   "source": [
    "theta = 0.5  \n",
    "theta1 = 4 \n",
    "stepsize = .01\n",
    "iterations = 0\n",
    "maxiterations = 10000\n",
    "precision = 10**(-12)\n",
    "printData = True\n",
    "array2iv_1=[]\n",
    "array2iv_2=[]\n",
    "\n",
    "while True:\n",
    "    temptheta = theta - stepsize*N(fpw1.subs(w1,theta).subs(w2,theta1)).evalf()\n",
    "    temptheta1 = theta1 - stepsize*N(fpw2.subs(w2,theta1)).subs(w1,theta).evalf()\n",
    "\n",
    "    iterations += 1\n",
    "    if iterations > maxiterations:\n",
    "        print(\"Too many iterations.\")\n",
    "        printData = False\n",
    "        break\n",
    "\n",
    "    if abs(temptheta-theta) < precision and abs(temptheta1-theta1) < precision:\n",
    "        break\n",
    "\n",
    "    theta = temptheta\n",
    "    theta1 = temptheta1\n",
    "    \n",
    "    array2iv_1.append(temptheta)\n",
    "    array2iv_2.append(temptheta1)\n",
    "\n",
    "if printData:\n",
    "    print(\"The function converges to a minimum\")\n",
    "    print(\"Number of iterations:\",iterations)\n",
    "    print(\"w1 =\",temptheta)\n",
    "    print(\"w2 =\",temptheta1)"
   ]
  },
  {
   "cell_type": "markdown",
   "metadata": {},
   "source": [
    "The solutions to the four problems are different. Therefore, the function has at least 4 different local minimas. We can verify this by plugging in the points into the equation and seeing that the value of the function at those points are different. "
   ]
  },
  {
   "cell_type": "code",
   "execution_count": 68,
   "metadata": {},
   "outputs": [],
   "source": [
    "import matplotlib\n",
    "import numpy as np\n",
    "import matplotlib.cm as cm\n",
    "import matplotlib.pyplot as plt\n",
    "\n",
    "\n",
    "delta = 0.1\n",
    "x = np.arange(-5.0, 5.0, delta)\n",
    "y = np.arange(-5.0, 5.0, delta)\n",
    "X, Y = np.meshgrid(x, y)\n",
    "Z = (X + Y**2 - 7)**2 + (X**2 + Y - 11)**2 \n"
   ]
  },
  {
   "cell_type": "code",
   "execution_count": 69,
   "metadata": {},
   "outputs": [
    {
     "data": {
      "text/plain": [
       "(100, 100)"
      ]
     },
     "execution_count": 69,
     "metadata": {},
     "output_type": "execute_result"
    }
   ],
   "source": [
    "X.shape\n",
    "Y.shape\n",
    "Z.shape"
   ]
  },
  {
   "cell_type": "code",
   "execution_count": 78,
   "metadata": {},
   "outputs": [
    {
     "data": {
      "image/png": "[encoded data removed]",
      "text/plain": [
       "<Figure size 432x288 with 1 Axes>"
      ]
     },
     "metadata": {},
     "output_type": "display_data"
    },
    {
     "data": {
      "text/plain": [
       "Text(0.5,1,'Contour of f(w)')"
      ]
     },
     "execution_count": 78,
     "metadata": {},
     "output_type": "execute_result"
    }
   ],
   "source": [
    "fig, ax = plt.subplots()\n",
    "levels = np.linspace(-5.0, 5.0, 100)\n",
    "CS = ax.contour(X, Y, Z,levels = levels)\n",
    "ax.clabel(CS, inline=1, fontsize=10)\n",
    "plt.plot(array2i_1, array2i_2, 'ro')\n",
    "plt.plot(array2ii_1, array2ii_2, 'ro')\n",
    "plt.plot(array2iii_1, array2iii_2, 'ro')\n",
    "plt.plot(array2iv_1, array2iv_2, 'ro')\n",
    "plt.show()\n",
    "ax.set_title('Contour of f(w)')"
   ]
  },
  {
   "cell_type": "markdown",
   "metadata": {},
   "source": [
    "Parameter Estimation"
   ]
  },
  {
   "cell_type": "code",
   "execution_count": 88,
   "metadata": {},
   "outputs": [
    {
     "name": "stdout",
     "output_type": "stream",
     "text": [
      "[-2.96454063  1.05078219  3.26642339 -0.94868856 -0.44759551]\n",
      "[-0.38296093  0.4898496   4.06771269  0.42425006 -0.5047962 ]\n",
      "[-1.08871037  0.06160075  4.13560304  0.89331504  0.61099001]\n",
      "[-0.97022896 -0.08575415  3.97060424  1.04179685  0.4945879 ]\n",
      "[-1.01015414 -0.01351164  4.01449486  0.9952782   0.48039842]\n",
      "[-1.00984859 -0.00907161  3.98936307  1.00665113  0.50019594]\n",
      "[1.24527172e+00 7.35116000e-02 1.95765963e-02 4.58162181e-04\n",
      " 1.17305201e-04]\n"
     ]
    }
   ],
   "source": [
    "from scipy.stats import multivariate_normal\n",
    "mean = [-1,0,4,1,0.5]\n",
    "c=2*np.identity(5)\n",
    "X = multivariate_normal.rvs(mean,c)\n",
    "print(X)\n",
    "a = [10,100,1000,10000,100000]\n",
    "en = np.zeros(5)\n",
    "for i in range(5):\n",
    "    n = np.zeros(5)\n",
    "    for j in range(10**(i+1)):\n",
    "        x = multivariate_normal.rvs(mean,c)\n",
    "        n = n + x\n",
    "    un = n/(10**(i+1))\n",
    "    print(un)\n",
    "    en[i] = np.linalg.norm(k-mean)**2\n",
    "print(d)"
   ]
  },
  {
   "cell_type": "code",
   "execution_count": 87,
   "metadata": {},
   "outputs": [
    {
     "data": {
      "image/png": "[encoded data removed]",
      "text/plain": [
       "<Figure size 432x288 with 1 Axes>"
      ]
     },
     "metadata": {},
     "output_type": "display_data"
    }
   ],
   "source": [
    "plt.loglog(d,a)\n",
    "plt.grid(True)\n",
    "plt.title('eN vs N')\n",
    "plt.show()"
   ]
  },
  {
   "cell_type": "markdown",
   "metadata": {},
   "source": [
    "As N increases, eN decreases at a logarithmic rate, as shown by the above figure."
   ]
  },
  {
   "cell_type": "code",
   "execution_count": null,
   "metadata": {},
   "outputs": [],
   "source": []
  }
 ],
 "metadata": {
  "kernelspec": {
   "display_name": "Python 3",
   "language": "python",
   "name": "python3"
  },
  "language_info": {
   "codemirror_mode": {
    "name": "ipython",
    "version": 3
   },
   "file_extension": ".py",
   "mimetype": "text/x-python",
   "name": "python",
   "nbconvert_exporter": "python",
   "pygments_lexer": "ipython3",
   "version": "3.6.5"
  }
 },
 "nbformat": 4,
 "nbformat_minor": 2
}
